{
 "cells": [
  {
   "cell_type": "code",
   "execution_count": 5,
   "metadata": {
    "collapsed": false
   },
   "outputs": [
    {
     "name": "stdout",
     "output_type": "stream",
     "text": [
      "1728\n",
      "1\n"
     ]
    }
   ],
   "source": [
    "from __future__ import print_function\n",
    "\n",
    "def fast_power(number, power):\n",
    "    \n",
    "    result = 1\n",
    "    number_in_degree_of_2 = number\n",
    "    \n",
    "    while power > 0:\n",
    "        # Добавляем нужную степень двойки к результату,\n",
    "        # если она есть в разложении степени\n",
    "        if power % 2 == 1:\n",
    "            result *= number_in_degree_of_2\n",
    "        number_in_degree_of_2 *= number_in_degree_of_2\n",
    "        power /= 2\n",
    "    return result\n",
    "        \n",
    "print(fast_power(12, 3))\n"
   ]
  }
 ],
 "metadata": {
  "kernelspec": {
   "display_name": "Python 2",
   "language": "python",
   "name": "python2"
  },
  "language_info": {
   "codemirror_mode": {
    "name": "ipython",
    "version": 2
   },
   "file_extension": ".py",
   "mimetype": "text/x-python",
   "name": "python",
   "nbconvert_exporter": "python",
   "pygments_lexer": "ipython2",
   "version": "2.7.10"
  }
 },
 "nbformat": 4,
 "nbformat_minor": 0
}
