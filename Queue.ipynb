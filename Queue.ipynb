{
 "cells": [
  {
   "cell_type": "code",
   "execution_count": null,
   "metadata": {
    "collapsed": true
   },
   "outputs": [],
   "source": [
    "class EmptyQueueError(Exception):\n",
    "    pass\n",
    "\n",
    "class Queue(object):\n",
    "    \"\"\"FIFO queue, utilizes python's list for internal presentation\"\"\"\n",
    "    DEFAULT_CAPACITY = 10\n",
    "    \n",
    "    def __init__(self):\n",
    "        self._data = [None] * Queue.DEFAULT_CAPACITY\n",
    "        self._size = 0\n",
    "        # stored index of the front element\n",
    "        self._front_el_index = 0\n",
    "    \n",
    "    def __len__(self):\n",
    "        return self._size\n",
    "    \n",
    "    def is_empty(self):\n",
    "        return self._size == 0\n",
    "\n",
    "    def first(self):\n",
    "        \"\"\"Get queue's front element without removing\"\"\"\n",
    "        \n",
    "        if self.is_empty():\n",
    "            raise EmptyQueueError(\"Queue is empty\")\n",
    "        return self._data[self._front_el_index]\n",
    "    \n",
    "    def dequeue(self):\n",
    "        \"\"\"Get and remove queue's front element\"\"\"\n",
    "        if self.is_empty():\n",
    "            raise EmptyQueueError(\"Queue is empty\")\n",
    "        front_el = self._data[self._front_el_index]\n",
    "        # decrease ref counter to help garbage collection\n",
    "        self._data[self._front_el_index] = None\n",
    "        # our queue use circular representation \n",
    "        self._front_el_index = (self._front_el_index + 1) % len(self._data)\n",
    "        self._size -= 1\n",
    "        # decrease underlying array size if number of elements is 4 times smaller than capacity\n",
    "        if 0 < self._size < len(self._data) // 4:\n",
    "            self._resize(len(self._data) // 2)\n",
    "        return front_el\n",
    "\n",
    "    def enqueue(self, el):\n",
    "        \"\"\"Add element to the back of the queue\"\"\"\n",
    "        if self._size == len(self._data):\n",
    "            self._resize(2 * len(self.data))\n",
    "        avail = (self._front_el_index + self._size) % len(self._data)\n",
    "        self._data[avail] = el\n",
    "        self._size += 1\n",
    "    \n",
    "    def _resize(self, capacity):\n",
    "        old = self._data\n",
    "        self._data = [None] * capacity\n",
    "        walk = self._front_el_index\n",
    "        for indx in range(self._size):\n",
    "            self._data[indx] = old[indx]\n",
    "            walk = (1 + walk) % len(old)\n",
    "        self._front_el_index = 0\n",
    "    "
   ]
  }
 ],
 "metadata": {
  "kernelspec": {
   "display_name": "Python 3",
   "language": "python",
   "name": "python3"
  },
  "language_info": {
   "codemirror_mode": {
    "name": "ipython",
    "version": 3
   },
   "file_extension": ".py",
   "mimetype": "text/x-python",
   "name": "python",
   "nbconvert_exporter": "python",
   "pygments_lexer": "ipython3",
   "version": "3.5.1"
  }
 },
 "nbformat": 4,
 "nbformat_minor": 0
}
