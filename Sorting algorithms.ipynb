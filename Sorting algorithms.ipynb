{
 "cells": [
  {
   "cell_type": "markdown",
   "metadata": {},
   "source": [
    "## Merge sort"
   ]
  },
  {
   "cell_type": "code",
   "execution_count": 20,
   "metadata": {
    "collapsed": false
   },
   "outputs": [],
   "source": [
    "import array\n",
    "\n",
    "def merge(seq_1, seq_2, output_seq):\n",
    "    '''Merges two sorted sequences into the third one'''\n",
    "    i = j = 0\n",
    "    output_length = len(output_seq)\n",
    "    while i + j < output_length:\n",
    "        if j == len(seq_2) or (i < len(seq_1) and seq_1[i] < seq_2[j]):\n",
    "            output_seq[i+j] = seq_1[i]\n",
    "            i += 1\n",
    "        else:\n",
    "            output_seq[i+j] = seq_2[j]\n",
    "            j += 1\n",
    "\n",
    "array_1 = array.array('l', [2, 5, 8, 11, 12, 14, 15])\n",
    "array_2 = array.array('l', [3, 9, 10, 18, 19, 22, 25])\n",
    "output_array = array.array('l', [0] * (len(array_1) + len(array_2)))\n",
    "\n",
    "\n",
    "merge(array_1, array_2, output_array)\n",
    "assert output_array == array.array('l', [2, 3, 5, 8, 9, 10, 11, 12, 14, 15, 18, 19, 22, 25])\n",
    "\n",
    "\n",
    "def merge_sort(sequence):\n",
    "    '''Inplace merge sort'''\n",
    "    total_elements = len(sequence)\n",
    "    if total_elements < 2:\n",
    "        # List of one element is already sorted         \n",
    "        return\n",
    "    # Find the middle of the sequence\n",
    "    mid = total_elements // 2\n",
    "    \n",
    "    subseq_1 = sequence[0:mid]\n",
    "    subseq_2 = sequence[mid:total_elements]\n",
    "    \n",
    "    # Recusively sort subsequences\n",
    "    merge_sort(subseq_1)\n",
    "    merge_sort(subseq_2)\n",
    "    \n",
    "    merge(subseq_1, subseq_2, sequence)\n",
    "\n",
    "seq = array.array('l', [79, 80, 23, 22, 24, 37, 38, 51, 62, 41])\n",
    "\n",
    "merge_sort(seq)\n",
    "assert seq == array.array('l', [22, 23, 24, 37, 38, 41, 51, 62, 79, 80])"
   ]
  }
 ],
 "metadata": {
  "kernelspec": {
   "display_name": "Python 3",
   "language": "python",
   "name": "python3"
  },
  "language_info": {
   "codemirror_mode": {
    "name": "ipython",
    "version": 3
   },
   "file_extension": ".py",
   "mimetype": "text/x-python",
   "name": "python",
   "nbconvert_exporter": "python",
   "pygments_lexer": "ipython3",
   "version": "3.5.2"
  }
 },
 "nbformat": 4,
 "nbformat_minor": 1
}
