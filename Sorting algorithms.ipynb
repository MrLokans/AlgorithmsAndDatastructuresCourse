{
 "cells": [
  {
   "cell_type": "markdown",
   "metadata": {},
   "source": [
    "## Merge sort"
   ]
  },
  {
   "cell_type": "code",
   "execution_count": 11,
   "metadata": {
    "collapsed": false
   },
   "outputs": [],
   "source": [
    "import array\n",
    "\n",
    "def merge(seq_1, seq_2, output_seq):\n",
    "    '''Merges two sorted sequences into the third one'''\n",
    "    i = j = 0\n",
    "    output_length = len(output_seq)\n",
    "    while i + j < output_length:\n",
    "        if j == len(seq_2) or (i < len(seq_1) and seq_1[i] < seq_2[j]):\n",
    "            output_seq[i+j] = seq_1[i]\n",
    "            i += 1\n",
    "        else:\n",
    "            output_seq[i+j] = seq_2[j]\n",
    "            j += 1\n",
    "\n",
    "array_1 = array.array('l', [2, 5, 8, 11, 12, 14, 15])\n",
    "array_2 = array.array('l', [3, 9, 10, 18, 19, 22, 25])\n",
    "output_array = array.array('l', [0] * (len(array_1) + len(array_2)))\n",
    "\n",
    "\n",
    "merge(array_1, array_2, output_array)\n",
    "assert output_array == array.array('l', [2, 3, 5, 8, 9, 10, 11, 12, 14, 15, 18, 19, 22, 25])\n"
   ]
  }
 ],
 "metadata": {
  "kernelspec": {
   "display_name": "Python 3",
   "language": "python",
   "name": "python3"
  },
  "language_info": {
   "codemirror_mode": {
    "name": "ipython",
    "version": 3
   },
   "file_extension": ".py",
   "mimetype": "text/x-python",
   "name": "python",
   "nbconvert_exporter": "python",
   "pygments_lexer": "ipython3",
   "version": "3.5.2"
  }
 },
 "nbformat": 4,
 "nbformat_minor": 1
}
