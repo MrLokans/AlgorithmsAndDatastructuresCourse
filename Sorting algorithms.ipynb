{
 "cells": [
  {
   "cell_type": "markdown",
   "metadata": {},
   "source": [
    "## Merge sort"
   ]
  },
  {
   "cell_type": "code",
   "execution_count": 21,
   "metadata": {
    "collapsed": false
   },
   "outputs": [],
   "source": [
    "import array\n",
    "\n",
    "def merge(seq_1, seq_2, output_seq):\n",
    "    '''Merges two sorted sequences into the third one'''\n",
    "    i = j = 0\n",
    "    output_length = len(output_seq)\n",
    "    while i + j < output_length:\n",
    "        if j == len(seq_2) or (i < len(seq_1) and seq_1[i] < seq_2[j]):\n",
    "            output_seq[i+j] = seq_1[i]\n",
    "            i += 1\n",
    "        else:\n",
    "            output_seq[i+j] = seq_2[j]\n",
    "            j += 1\n",
    "\n",
    "array_1 = array.array('l', [2, 5, 8, 11, 12, 14, 15])\n",
    "array_2 = array.array('l', [3, 9, 10, 18, 19, 22, 25])\n",
    "output_array = array.array('l', [0] * (len(array_1) + len(array_2)))\n",
    "\n",
    "\n",
    "merge(array_1, array_2, output_array)\n",
    "assert output_array == array.array('l', [2, 3, 5, 8, 9, 10, 11, 12, 14, 15, 18, 19, 22, 25])\n",
    "\n",
    "\n",
    "def merge_sort(sequence):\n",
    "    '''Inplace merge sort'''\n",
    "    total_elements = len(sequence)\n",
    "    if total_elements < 2:\n",
    "        # List of one element is already sorted         \n",
    "        return\n",
    "    # Find the middle of the sequence\n",
    "    mid = total_elements // 2\n",
    "    \n",
    "    subseq_1 = sequence[0:mid]\n",
    "    subseq_2 = sequence[mid:total_elements]\n",
    "    \n",
    "    # Recusively sort subsequences\n",
    "    merge_sort(subseq_1)\n",
    "    merge_sort(subseq_2)\n",
    "    \n",
    "    merge(subseq_1, subseq_2, sequence)\n",
    "\n",
    "seq = array.array('l', [79, 80, 23, 22, 24, 37, 38, 51, 62, 41])\n",
    "\n",
    "merge_sort(seq)\n",
    "assert seq == array.array('l', [22, 23, 24, 37, 38, 41, 51, 62, 79, 80])"
   ]
  },
  {
   "cell_type": "markdown",
   "metadata": {},
   "source": [
    "## Quick-sort\n",
    "\n",
    "In particular, the quick-sort algorithm\n",
    "consists of the following three steps:\n",
    "1. **Divide**: If S has at least two elements (nothing needs to be done if S has\n",
    "zero or one element), select a specific element x from S, which is called the\n",
    "pivot. As is common practice, choose the pivot x to be the last element in S.\n",
    "Remove all the elements from S and put them into three sequences:\n",
    " - L, storing the elements in S less than x\n",
    " - E, storing the elements in S equal to x\n",
    " - G, storing the elements in S greater than x\n",
    "\n",
    "Of course, if the elements of S are distinct, then E holds just one element—\n",
    "the pivot itself.\n",
    "2. **Conquer**: Recursively sort sequences L and G.\n",
    "3. **Combine**: Put back the elements into S in order by first inserting the elements\n",
    "of L, then those of E, and finally those of G."
   ]
  },
  {
   "cell_type": "code",
   "execution_count": 46,
   "metadata": {
    "collapsed": false
   },
   "outputs": [
    {
     "name": "stdout",
     "output_type": "stream",
     "text": [
      "<queue.Queue object at 0x7fd1dd7c1b00>\n",
      "<queue.Queue object at 0x7fd1e4048748>\n",
      "<queue.Queue object at 0x7fd1dd7c10f0>\n",
      "<queue.Queue object at 0x7fd1dd7c13c8>\n",
      "<queue.Queue object at 0x7fd1dd7c1630>\n",
      "<queue.Queue object at 0x7fd1dd7c1748>\n",
      "<queue.Queue object at 0x7fd1dd7c1278>\n",
      "<queue.Queue object at 0x7fd1dd7c1898>\n",
      "<queue.Queue object at 0x7fd1dd7c1550>\n",
      "9\n",
      "30\n"
     ]
    }
   ],
   "source": [
    "import queue\n",
    "\n",
    "def quick_sort(sequence_queue):\n",
    "    '''Inplace quick-sort'''\n",
    "    total_elements = sequence_queue.qsize()\n",
    "    print(sequence_queue)\n",
    "    if total_elements < 2:\n",
    "        return\n",
    "    \n",
    "    # We use first element as the pivot\n",
    "    pivot = sequence_queue.get()\n",
    "    smaller_elements = queue.Queue()\n",
    "    equal_elements = queue.Queue()\n",
    "    greater_elements = queue.Queue()\n",
    "    \n",
    "    while not sequence_queue.empty():\n",
    "        element = sequence_queue.get()\n",
    "        if element < pivot:\n",
    "            smaller_elements.put(element)\n",
    "        elif element > pivot:\n",
    "            greater_elements.put(element)\n",
    "        else:\n",
    "            equal_elements.put(element)\n",
    "    quick_sort(smaller_elements)\n",
    "    quick_sort(greater_elements)\n",
    "    \n",
    "    while not smaller_elements.empty():\n",
    "        sequence_queue.put(smaller_elements.get())\n",
    "    while not equal_elements.empty():\n",
    "        sequence_queue.put(equal_elements.get())\n",
    "    while not greater_elements.empty():\n",
    "        sequence_queue.put(greater_elements.get())\n",
    "    \n",
    "q = queue.Queue()\n",
    "[q.put(i) for i in [1, 200, 20, 30, 19, 9]]\n",
    "quick_sort(q)\n",
    "\n",
    "while not q.empty():\n",
    "    print(q.get())\n",
    "# quick_sort(queue.queue([123]))\n",
    "#     while len(sequence) > 0:\n",
    "#         pass"
   ]
  }
 ],
 "metadata": {
  "kernelspec": {
   "display_name": "Python 3",
   "language": "python",
   "name": "python3"
  },
  "language_info": {
   "codemirror_mode": {
    "name": "ipython",
    "version": 3
   },
   "file_extension": ".py",
   "mimetype": "text/x-python",
   "name": "python",
   "nbconvert_exporter": "python",
   "pygments_lexer": "ipython3",
   "version": "3.5.2"
  }
 },
 "nbformat": 4,
 "nbformat_minor": 1
}
