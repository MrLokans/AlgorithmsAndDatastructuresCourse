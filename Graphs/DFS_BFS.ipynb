{
 "cells": [
  {
   "cell_type": "code",
   "execution_count": 15,
   "metadata": {
    "collapsed": false
   },
   "outputs": [
    {
     "name": "stdout",
     "output_type": "stream",
     "text": [
      "Vertex B popped\n",
      "Adding vertex B to visited\n",
      "Visited: {'B'}\n",
      "Stack: ['D', 'A', 'E']\n",
      "Vertex E popped\n",
      "Adding vertex E to visited\n",
      "Visited: {'B', 'E'}\n",
      "Stack: ['D', 'A', 'F']\n",
      "Vertex F popped\n",
      "Adding vertex F to visited\n",
      "Visited: {'F', 'B', 'E'}\n",
      "Stack: ['D', 'A', 'C']\n",
      "Vertex C popped\n",
      "Adding vertex C to visited\n",
      "Visited: {'F', 'B', 'E', 'C'}\n",
      "Stack: ['D', 'A', 'A']\n",
      "Vertex A popped\n",
      "Adding vertex A to visited\n",
      "Visited: {'F', 'B', 'E', 'A', 'C'}\n",
      "Stack: ['D', 'A']\n",
      "Vertex A popped\n",
      "Vertex D popped\n",
      "Adding vertex D to visited\n",
      "Visited: {'B', 'A', 'E', 'F', 'C', 'D'}\n",
      "Stack: []\n",
      "{'B', 'A', 'E', 'F', 'C', 'D'}\n"
     ]
    }
   ],
   "source": [
    "graph = {'A': set(['B', 'C']),\n",
    "         'B': set(['A', 'D', 'E']),\n",
    "         'C': set(['A', 'F']),\n",
    "         'D': set(['B']),\n",
    "         'E': set(['B', 'F']),\n",
    "         'F': set(['C', 'E'])}\n",
    "\n",
    "\n",
    "def dfs_iterative(graph, start):\n",
    "    visited, stack = set(), [start]\n",
    "    \n",
    "    while stack:\n",
    "        vertex = stack.pop()\n",
    "        print(\"Vertex %s popped\" % vertex)\n",
    "        if vertex not in visited:\n",
    "            print(\"Adding vertex %s to visited\" % vertex)\n",
    "            visited.add(vertex)\n",
    "            print(\"Visited: %s\" % visited)\n",
    "            stack.extend(graph[vertex] - visited)\n",
    "            print(\"Stack: %s\" % stack)\n",
    "    return visited\n",
    "\n",
    "def dfs_recoursive(graph, start, visited=None):\n",
    "    if visited is None:\n",
    "        visited = set()\n",
    "    if start in visited:\n",
    "        return\n",
    "    \n",
    "\n",
    "print(dfs_iterative(graph, 'B'))"
   ]
  },
  {
   "cell_type": "code",
   "execution_count": null,
   "metadata": {
    "collapsed": true
   },
   "outputs": [],
   "source": []
  }
 ],
 "metadata": {
  "kernelspec": {
   "display_name": "Python 3",
   "language": "python",
   "name": "python3"
  },
  "language_info": {
   "codemirror_mode": {
    "name": "ipython",
    "version": 3
   },
   "file_extension": ".py",
   "mimetype": "text/x-python",
   "name": "python",
   "nbconvert_exporter": "python",
   "pygments_lexer": "ipython3",
   "version": "3.5.2"
  }
 },
 "nbformat": 4,
 "nbformat_minor": 0
}
