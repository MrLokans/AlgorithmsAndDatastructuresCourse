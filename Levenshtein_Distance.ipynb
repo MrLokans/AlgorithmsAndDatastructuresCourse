{
 "cells": [
  {
   "cell_type": "code",
   "execution_count": 38,
   "metadata": {
    "collapsed": false
   },
   "outputs": [
    {
     "name": "stdout",
     "output_type": "stream",
     "text": [
      "[[1, 2, 3, 4, 5, 6, 7],\n",
      " [2, 2, 2, 3, 4, 5, 6],\n",
      " [3, 3, 3, 3, 4, 5, 6],\n",
      " [4, 4, 4, 3, 4, 5, 6],\n",
      " [5, 5, 5, 4, 4, 5, 6],\n",
      " [6, 6, 6, 5, 5, 4, 5],\n",
      " [7, 7, 7, 6, 6, 5, 5],\n",
      " [8, 8, 8, 7, 7, 6, 6]]\n"
     ]
    }
   ],
   "source": [
    "\"\"\"\n",
    "Here is a schematic location of the letter\n",
    "\n",
    "R D\n",
    "\n",
    "I x\n",
    "\"\"\"\n",
    "import pprint\n",
    "\n",
    "\n",
    "def create_empty_matrix(rows: int, columns: int) -> list:\n",
    "    n, m = rows, columns\n",
    "    return [[None for _ in range(columns)]\n",
    "            for _ in range(rows)]\n",
    "\n",
    "\n",
    "def fill_initial_values(arr, rows: int, columns: int) -> list:\n",
    "    for r in range(rows):\n",
    "        arr[r][0] = r + 1\n",
    "    for c in range(columns):\n",
    "        arr[0][c] = c + 1\n",
    "    return arr\n",
    "\n",
    "\n",
    "def generate_levenstein_matrix(arr: list, seq_1, seq_2, rows: int, columns: int) -> list:\n",
    "    \"\"\"\n",
    "    Fill the missing values with costs\n",
    "    \"\"\"\n",
    "    for r in range(1, rows):\n",
    "        for c in range(1, columns):\n",
    "            # In case elements in both arrays are equal\n",
    "            # we assign previous diagonal value\n",
    "            diff = 1 if seq_1[r] != seq_2[c] else 0\n",
    "            inserted = arr[r-1][c]\n",
    "            deleted = arr[r][c-1]\n",
    "            replaced = arr[r-1][c-1]\n",
    "            arr[r][c] = min(inserted + 1, deleted + 1, replaced + diff)\n",
    "    return arr\n",
    "\n",
    "\n",
    "def levenstein_distance(s1: str, s2: str) -> int:\n",
    "    \"\"\"\n",
    "    Calculates levenstein distance between two strings\n",
    "    \"\"\"\n",
    "    len_1, len_2 = len(s1), len(s2)\n",
    "    # This implementation is in-efficient for demonstration purposes\n",
    "    m = create_empty_matrix(len_1, len_2)\n",
    "    m = fill_initial_values(m, len_1, len_2)\n",
    "    m = generate_levenstein_matrix(m, s1, s2, len_1, len_2)\n",
    "    pprint.pprint(m)\n",
    "    \n",
    "    \n",
    "levenstein_distance(\"distance\", \"editing\")"
   ]
  }
 ],
 "metadata": {
  "kernelspec": {
   "display_name": "Python 3",
   "language": "python",
   "name": "python3"
  },
  "language_info": {
   "codemirror_mode": {
    "name": "ipython",
    "version": 3
   },
   "file_extension": ".py",
   "mimetype": "text/x-python",
   "name": "python",
   "nbconvert_exporter": "python",
   "pygments_lexer": "ipython3",
   "version": "3.5.2"
  }
 },
 "nbformat": 4,
 "nbformat_minor": 2
}
