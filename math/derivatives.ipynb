{
 "cells": [
  {
   "cell_type": "markdown",
   "metadata": {},
   "source": [
    "$$m = \\Delta \\frac{f(a)}{\\Delta a} = \\frac{f(a+h) - f(a)}{h}$$\n",
    "\n",
    "$$ f'(a) = \\lim_{h \\to 0} \\frac{f(a+h) - f(a)}{h} $$"
   ]
  },
  {
   "cell_type": "code",
   "execution_count": 6,
   "metadata": {
    "collapsed": false
   },
   "outputs": [
    {
     "name": "stdout",
     "output_type": "stream",
     "text": [
      "f(x) = x ^ 2 + 2x -4\n",
      "f(4) = 20\n",
      "f'(4) = 10.000000116860974\n"
     ]
    }
   ],
   "source": [
    "def f(x):\n",
    "    return x**2 + 2*x - 4\n",
    "\n",
    "def derivative(f, x, delta=0.0000001):\n",
    "    return (f(x + delta) - f(x)) / delta\n",
    "\n",
    "print(\"f(x) = x ^ 2 + 2x -4\")\n",
    "print(\"f(4) = {}\".format(f(4)))\n",
    "print(\"f'(4) = {}\".format(derivative(f, 4)))"
   ]
  },
  {
   "cell_type": "code",
   "execution_count": null,
   "metadata": {
    "collapsed": true
   },
   "outputs": [],
   "source": []
  }
 ],
 "metadata": {
  "kernelspec": {
   "display_name": "Python 3",
   "language": "python",
   "name": "python3"
  },
  "language_info": {
   "codemirror_mode": {
    "name": "ipython",
    "version": 3
   },
   "file_extension": ".py",
   "mimetype": "text/x-python",
   "name": "python",
   "nbconvert_exporter": "python",
   "pygments_lexer": "ipython3",
   "version": "3.5.2"
  }
 },
 "nbformat": 4,
 "nbformat_minor": 0
}
