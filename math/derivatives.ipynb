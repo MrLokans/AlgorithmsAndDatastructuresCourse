{
 "cells": [
  {
   "cell_type": "markdown",
   "metadata": {},
   "source": [
    "$$m = \\Delta \\frac{f(a)}{\\Delta a} = \\frac{f(a+h) - f(a)}{h}$$\n",
    "\n",
    "$$ f'(a) = \\lim_{h \\to 0} \\frac{f(a+h) - f(a)}{h} $$"
   ]
  },
  {
   "cell_type": "code",
   "execution_count": 10,
   "metadata": {
    "collapsed": false
   },
   "outputs": [
    {
     "name": "stdout",
     "output_type": "stream",
     "text": [
      "f(x) = x ^ 2 + 2x -4\n",
      "f(4) = 20\n",
      "f'(4) = 10.000000116860974\n",
      "g(x) = e ^ x\n",
      "g(10) = 22026.465794806703\n",
      "g'(10) = 22026.46675868891\n"
     ]
    }
   ],
   "source": [
    "import math\n",
    "\n",
    "def f(x):\n",
    "    return x**2 + 2*x - 4\n",
    "\n",
    "def derivative(f, x, delta=0.0000001):\n",
    "    return (f(x + delta) - f(x)) / delta\n",
    "\n",
    "print(\"f(x) = x ^ 2 + 2x -4\")\n",
    "print(\"f(4) = {}\".format(f(4)))\n",
    "print(\"f'(4) = {}\".format(derivative(f, 4)))\n",
    "\n",
    "\n",
    "def efunc(x):\n",
    "    return math.e ** x\n",
    "\n",
    "print(\"g(x) = e ^ x\")\n",
    "print(\"g(10) = {}\".format(efunc(10)))\n",
    "print(\"g'(10) = {}\".format(derivative(efunc, 10)))"
   ]
  },
  {
   "cell_type": "code",
   "execution_count": 18,
   "metadata": {
    "collapsed": false
   },
   "outputs": [
    {
     "name": "stdout",
     "output_type": "stream",
     "text": [
      "x*sin(x)**cos(x)\n",
      "x*(-log(sin(x))*sin(x) + cos(x)**2/sin(x))*sin(x)**cos(x) + sin(x)**cos(x)\n"
     ]
    }
   ],
   "source": [
    "from sympy import symbols, sin, cos, diff\n",
    "\n",
    "x = symbols(\"x\")\n",
    "\n",
    "func = x * sin(x) ** cos(x)\n",
    "print(\"function: {}\".format(func))\n",
    "print(\"function derivative: {}\".format(diff(func)))"
   ]
  }
 ],
 "metadata": {
  "kernelspec": {
   "display_name": "Python 3",
   "language": "python",
   "name": "python3"
  },
  "language_info": {
   "codemirror_mode": {
    "name": "ipython",
    "version": 3
   },
   "file_extension": ".py",
   "mimetype": "text/x-python",
   "name": "python",
   "nbconvert_exporter": "python",
   "pygments_lexer": "ipython3",
   "version": "3.5.2"
  }
 },
 "nbformat": 4,
 "nbformat_minor": 0
}
