{
 "cells": [
  {
   "cell_type": "code",
   "execution_count": null,
   "metadata": {
    "collapsed": true
   },
   "outputs": [],
   "source": [
    "class EmptyQueueError(Exception):\n",
    "    pass\n",
    "\n",
    "\n",
    "class CircularQueue(object):\n",
    "\n",
    "    class _Node(object):\n",
    "        __slots__ = '_element', '_next'\n",
    "\n",
    "        def __init__(self, element, next_node):\n",
    "            self._element = element\n",
    "            self._next = next_node\n",
    "    \n",
    "    def __init__(self):\n",
    "        self._tail = None\n",
    "        self._size = 0\n",
    "    \n",
    "    def __len__(self):\n",
    "        return self._size\n",
    "    \n",
    "    def is_empty(self):\n",
    "        return self._size == 0\n",
    "    \n",
    "    def first(self):\n",
    "        if self.is_empty():\n",
    "            raise EmptyQueueError('Queue is empty')\n",
    "        head = self._tail._next\n",
    "        return head._element\n",
    "    \n",
    "    def dequeue(self):\n",
    "        if self.is_empty():\n",
    "            raise EmptyQueueError('Queue is empty')        \n",
    "        old_head = self._tail._next\n",
    "        if self._size == 1:\n",
    "            # Removing single element\n",
    "            self._tail = None\n",
    "        else:\n",
    "            self._tail._next = old_head._next\n",
    "        self._size -= 1\n",
    "        return old_head._element\n",
    "    \n",
    "    def enqueue(self, el):\n",
    "        new_tail = self._Node(el, None)\n",
    "        if self.is_empty():\n",
    "            new_tail._next = new_tail\n",
    "        else:\n",
    "            new_tail._next = self._tail._next\n",
    "        self._tail = new_tail\n",
    "        self._size += 1\n",
    "    \n",
    "    def rotate(self):\n",
    "        \"\"\"Rotate queue so that front element moves to the back of the queue\"\"\"\n",
    "        if self._size > 0:\n",
    "            self._tail = self._tail._next\n",
    "        "
   ]
  }
 ],
 "metadata": {
  "kernelspec": {
   "display_name": "Python 3",
   "language": "python",
   "name": "python3"
  },
  "language_info": {
   "codemirror_mode": {
    "name": "ipython",
    "version": 3
   },
   "file_extension": ".py",
   "mimetype": "text/x-python",
   "name": "python",
   "nbconvert_exporter": "python",
   "pygments_lexer": "ipython3",
   "version": "3.5.1"
  }
 },
 "nbformat": 4,
 "nbformat_minor": 0
}
