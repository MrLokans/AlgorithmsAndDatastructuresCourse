{
 "cells": [
  {
   "cell_type": "code",
   "execution_count": 274,
   "metadata": {
    "collapsed": false
   },
   "outputs": [
    {
     "name": "stdout",
     "output_type": "stream",
     "text": [
      "[1, 2, 3, 3, 4, 5, 6, 7, 7, 9, 9, 11, 12, 14, 15, 15, 17, 18, 18, 19, 21, 22, 23, 25, 27, 29, 29, 29, 30, 32, 32, 35, 36, 37, 38, 39, 39, 39, 40, 40, 41, 42, 43, 43, 44, 47, 49, 49, 55, 55, 55, 57, 57, 59, 59, 61, 62, 64, 64, 64, 65, 68, 69, 70, 74, 74, 75, 76, 76, 76, 77, 80, 80, 81, 81, 81, 82, 84, 84, 84, 85, 87, 87, 87, 87, 87, 88, 88, 88, 89, 91, 91, 93, 94, 94, 95, 96, 98, 99, 99]\n",
      "False\n",
      "False\n"
     ]
    }
   ],
   "source": [
    "import random\n",
    "\n",
    "\n",
    "def binary_search(lst, number):\n",
    "    l = len(lst)\n",
    "    if l == 0:\n",
    "        return False\n",
    "\n",
    "    mid = l // 2\n",
    "    if lst[mid] == number:\n",
    "        return True\n",
    "    if lst[mid] > number:\n",
    "        return binary_search(lst[:mid], number)\n",
    "    else:\n",
    "        return binary_search(lst[mid+1:], number)\n",
    "\n",
    "nums = [random.randrange(100) for _ in range(100)]\n",
    "nums.sort()\n",
    "\n",
    "\n",
    "print(nums)\n",
    "is_in = binary_search(nums, 20)\n",
    "print(is_in)\n",
    "print (20 in nums)\n"
   ]
  }
 ],
 "metadata": {
  "kernelspec": {
   "display_name": "Python 3",
   "language": "python",
   "name": "python3"
  },
  "language_info": {
   "codemirror_mode": {
    "name": "ipython",
    "version": 3
   },
   "file_extension": ".py",
   "mimetype": "text/x-python",
   "name": "python",
   "nbconvert_exporter": "python",
   "pygments_lexer": "ipython3",
   "version": "3.5.0"
  }
 },
 "nbformat": 4,
 "nbformat_minor": 0
}
