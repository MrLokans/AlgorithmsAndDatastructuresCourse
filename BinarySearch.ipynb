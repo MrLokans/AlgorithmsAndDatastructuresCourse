{
 "cells": [
  {
   "cell_type": "code",
   "execution_count": 278,
   "metadata": {
    "collapsed": false
   },
   "outputs": [
    {
     "name": "stdout",
     "output_type": "stream",
     "text": [
      "[2, 3, 8, 9, 10, 10, 11, 12, 13, 14, 14, 14, 14, 17, 20, 20, 22, 26, 27, 27, 28, 29, 29, 30, 30, 30, 31, 31, 33, 33, 34, 36, 37, 40, 41, 42, 42, 43, 43, 43, 44, 45, 48, 50, 51, 51, 51, 51, 52, 52, 53, 54, 55, 57, 61, 61, 62, 63, 64, 65, 66, 67, 68, 69, 71, 71, 71, 72, 73, 73, 74, 74, 75, 76, 76, 76, 77, 77, 79, 82, 82, 83, 83, 85, 85, 85, 86, 87, 89, 90, 91, 91, 91, 91, 92, 92, 93, 97, 98, 98]\n",
      "True\n",
      "True\n"
     ]
    }
   ],
   "source": [
    "import random\n",
    "\n",
    "\n",
    "def binary_search(lst, number):\n",
    "    l = len(lst)\n",
    "    if l == 0:\n",
    "        return False\n",
    "\n",
    "    mid = l // 2\n",
    "    if lst[mid] == number:\n",
    "        return True\n",
    "    if lst[mid] > number:\n",
    "        return binary_search(lst[:mid], number)\n",
    "    else:\n",
    "        return binary_search(lst[mid+1:], number)\n",
    "\n",
    "nums = [random.randrange(100) for _ in range(100)]\n",
    "nums.sort()\n",
    "\n",
    "\n",
    "print(nums)\n",
    "is_in = binary_search(nums, 20)\n",
    "print(is_in)\n",
    "print (20 in nums)\n"
   ]
  }
 ],
 "metadata": {
  "kernelspec": {
   "display_name": "Python 3",
   "language": "python",
   "name": "python3"
  },
  "language_info": {
   "codemirror_mode": {
    "name": "ipython",
    "version": 3
   },
   "file_extension": ".py",
   "mimetype": "text/x-python",
   "name": "python",
   "nbconvert_exporter": "python",
   "pygments_lexer": "ipython3",
   "version": "3.5.0"
  }
 },
 "nbformat": 4,
 "nbformat_minor": 0
}
