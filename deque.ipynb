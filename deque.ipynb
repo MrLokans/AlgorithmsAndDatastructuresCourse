{
 "cells": [
  {
   "cell_type": "markdown",
   "metadata": {},
   "source": [
    "Реализуйте дек с динамическим зацикленным буфером.\n",
    "Для тестирования дека на вход подаются команды. \n",
    "В первой строке количество команд. Затем в каждой строке записана одна команда. \n",
    "Каждая команда задаётся как 2 целых числа: a b.\n",
    "\n",
    "a = 1 - push front,\n",
    "\n",
    "a = 2 - pop front,\n",
    "\n",
    "a = 3 - push back, \n",
    "\n",
    "a = 4 - pop back.\n",
    "\n",
    "Если дана команда pop*, то число b - ожидаемое значение. Если команда pop вызвана для пустой структуры данных, то ожидается “-1”.\n",
    "\n",
    "\n",
    "Требуется напечатать YES, если все ожидаемые значения совпали. Иначе, если хотя бы одно ожидание не оправдалось, то напечатать NO.\n"
   ]
  },
  {
   "cell_type": "code",
   "execution_count": 12,
   "metadata": {
    "collapsed": false
   },
   "outputs": [
    {
     "name": "stdout",
     "output_type": "stream",
     "text": [
      "[[1, 44], [3, 50], [2, 44], [2, 50], [2, -1]]\n",
      "deque([50, 44])\n",
      "deque([50])\n",
      "YES\n"
     ]
    }
   ],
   "source": [
    "from collections import deque\n",
    "\n",
    "PUSH_FRONT, POP_FRONT, PUSH_BACK, POP_BACK = range(1, 5)\n",
    "                    \n",
    "def process_commands(commands):\n",
    "    d = deque()\n",
    "    for command in commands:\n",
    "\n",
    "        if command[0] == PUSH_FRONT:\n",
    "            d.append(command[1])\n",
    "\n",
    "        elif command[0] == POP_FRONT:\n",
    "            if len(d) == 0 and command[1] == -1:\n",
    "                return True\n",
    "            if len(d) == 0 and command[1] != -1:\n",
    "                return False\n",
    "            el = d.pop()\n",
    "            if el != command[1]:\n",
    "                return False\n",
    "\n",
    "        elif command[0] == PUSH_BACK:\n",
    "            d.appendleft(command[1])\n",
    "\n",
    "        elif command[0] == POP_BACK:\n",
    "            if len(d) == 0 and command[1] == -1:\n",
    "                return True\n",
    "            if len(d) == 0 and command[1] != -1:\n",
    "                return False\n",
    "            el = d.popleft()\n",
    "            if el != command[1]:\n",
    "                return False\n",
    "    return True\n",
    "\n",
    "def main():\n",
    "    command_count = int(input())\n",
    "    # command_count = 5\n",
    "    commands = []\n",
    "\n",
    "    for i in range(command_count):\n",
    "        command_list = input().split()\n",
    "        command_list = list(map(int, command_list))\n",
    "        commands.append(command_list)\n",
    "    commands = [[1, 44], [3, 50], [2, 44], [2, 50], [2, -1]]\n",
    "    \n",
    "    if not process_commands(commands):\n",
    "        print \"NO\"\n",
    "    else:\n",
    "        print \"YES\"\n",
    "\n",
    "\n",
    "if __name__ == \"__main__\":\n",
    "    main()"
   ]
  },
  {
   "cell_type": "code",
   "execution_count": null,
   "metadata": {
    "collapsed": true
   },
   "outputs": [],
   "source": []
  }
 ],
 "metadata": {
  "kernelspec": {
   "display_name": "Python 2",
   "language": "python",
   "name": "python2"
  },
  "language_info": {
   "codemirror_mode": {
    "name": "ipython",
    "version": 2
   },
   "file_extension": ".py",
   "mimetype": "text/x-python",
   "name": "python",
   "nbconvert_exporter": "python",
   "pygments_lexer": "ipython2",
   "version": "2.7.10"
  }
 },
 "nbformat": 4,
 "nbformat_minor": 0
}
