{
 "cells": [
  {
   "cell_type": "markdown",
   "metadata": {},
   "source": [
    "Дан отсортированный массив различных целых чисел A[0..n-1] и массив целых чисел B[0..m-1].\n",
    "Для каждого элемента массива B[i] найдите минимальный индекс элемента массива A[k],\n",
    "ближайшего по значению к B[i].\n",
    "\n",
    "Время работы поиска для каждого элемента B[i]: O(log(k)).\n",
    "\n",
    "Подсказка. Обратите внимание, что время работы должно зависеть от индекса ответа - k. Для достижения такой асимптотики предлагается для начала найти отрезок вида [$2^p$,$2^{p+1}$] , содержащий искомую точку, а уже затем на нём выполнять традиционный бин. поиск."
   ]
  },
  {
   "cell_type": "code",
   "execution_count": 30,
   "metadata": {
    "collapsed": false
   },
   "outputs": [
    {
     "name": "stdout",
     "output_type": "stream",
     "text": [
      "p1: 2, p2: 2\n",
      "[]\n",
      "Found, p1: 0, p2: 1\n",
      "p1: 0, p2: 1\n",
      "[20]\n",
      "p1: 2, p2: 2\n",
      "[]\n"
     ]
    },
    {
     "ename": "AssertionError",
     "evalue": "",
     "output_type": "error",
     "traceback": [
      "\u001b[1;31m---------------------------------------------------------------------------\u001b[0m",
      "\u001b[1;31mAssertionError\u001b[0m                            Traceback (most recent call last)",
      "\u001b[1;32m<ipython-input-30-729920488de8>\u001b[0m in \u001b[0;36m<module>\u001b[1;34m()\u001b[0m\n\u001b[0;32m     33\u001b[0m \u001b[1;33m\u001b[0m\u001b[0m\n\u001b[0;32m     34\u001b[0m \u001b[1;33m\u001b[0m\u001b[0m\n\u001b[1;32m---> 35\u001b[1;33m \u001b[1;32massert\u001b[0m \u001b[0mprocess\u001b[0m\u001b[1;33m(\u001b[0m\u001b[1;33m[\u001b[0m\u001b[1;36m10\u001b[0m\u001b[1;33m,\u001b[0m \u001b[1;36m20\u001b[0m\u001b[1;33m,\u001b[0m \u001b[1;36m30\u001b[0m\u001b[1;33m]\u001b[0m\u001b[1;33m,\u001b[0m \u001b[1;33m[\u001b[0m\u001b[1;36m9\u001b[0m\u001b[1;33m,\u001b[0m \u001b[1;36m15\u001b[0m\u001b[1;33m,\u001b[0m \u001b[1;36m35\u001b[0m\u001b[1;33m]\u001b[0m\u001b[1;33m)\u001b[0m \u001b[1;33m==\u001b[0m \u001b[1;33m[\u001b[0m\u001b[1;36m0\u001b[0m\u001b[1;33m,\u001b[0m \u001b[1;36m0\u001b[0m\u001b[1;33m,\u001b[0m \u001b[1;36m2\u001b[0m\u001b[1;33m]\u001b[0m\u001b[1;33m\u001b[0m\u001b[0m\n\u001b[0m",
      "\u001b[1;31mAssertionError\u001b[0m: "
     ]
    }
   ],
   "source": [
    "# array_size_1 = int(input())\n",
    "# arr_1 = list(map(int, input().split()))\n",
    "\n",
    "# array_size_2 = int(input())\n",
    "# arr_2 = list(map(int, input().split()))\n",
    "\n",
    "def find_closest_index(arr, number):\n",
    "    found = False\n",
    "    l = len(arr)\n",
    "    index = 0\n",
    "    p1, p2 = 0, 1\n",
    "    while not found:\n",
    "        if arr[p1] <= number <= arr[p2]:\n",
    "            print(\"Found, p1: {}, p2: {}\".format(p1, p2))\n",
    "            found = True\n",
    "        else:\n",
    "            p1 = p2\n",
    "            \n",
    "            p2 *= 2\n",
    "            if p2 > l:\n",
    "                p2 = l - 1\n",
    "                found = True\n",
    "    search_array = arr[2 ** p1: 2 ** p2]\n",
    "    print(\"p1: {}, p2: {}\".format(p1, p2))\n",
    "    print(search_array)\n",
    "\n",
    "def process(arr_1, arr_2):\n",
    "    res = []\n",
    "    \n",
    "    for i in arr_2:\n",
    "        res.append(find_closest_index(arr_1, i))\n",
    "    return res\n",
    "\n",
    "\n",
    "assert process([10, 20, 30], [9, 15, 35]) == [0, 0, 2]"
   ]
  }
 ],
 "metadata": {
  "kernelspec": {
   "display_name": "Python 3",
   "language": "python",
   "name": "python3"
  },
  "language_info": {
   "codemirror_mode": {
    "name": "ipython",
    "version": 3
   },
   "file_extension": ".py",
   "mimetype": "text/x-python",
   "name": "python",
   "nbconvert_exporter": "python",
   "pygments_lexer": "ipython3",
   "version": "3.5.0"
  }
 },
 "nbformat": 4,
 "nbformat_minor": 0
}
