{
 "cells": [
  {
   "cell_type": "code",
   "execution_count": 1,
   "metadata": {
    "collapsed": false
   },
   "outputs": [
    {
     "ename": "SyntaxError",
     "evalue": "unexpected EOF while parsing (<ipython-input-1-bffb155fe5c2>, line 12)",
     "output_type": "error",
     "traceback": [
      "\u001b[1;36m  File \u001b[1;32m\"<ipython-input-1-bffb155fe5c2>\"\u001b[1;36m, line \u001b[1;32m12\u001b[0m\n\u001b[1;33m    def __init__(self):\u001b[0m\n\u001b[1;37m                       ^\u001b[0m\n\u001b[1;31mSyntaxError\u001b[0m\u001b[1;31m:\u001b[0m unexpected EOF while parsing\n"
     ]
    }
   ],
   "source": [
    "class DoublyLinkedList(object):\n",
    "\n",
    "    class _Node(object):\n",
    "\n",
    "        __slots__ = ('_element', '_prev', '_next')\n",
    "\n",
    "        def __init__(self, element, prev, next):\n",
    "            self._element = element\n",
    "            self._prev = prev\n",
    "            self._next = next\n",
    "    \n",
    "    def __init__(self):\n",
    "        self._header = self._Node(None, None, None)\n",
    "        self._trailer = self._Node(None, None, None)\n",
    "        self._header._next = self._trailer\n",
    "        self._trailer._prev = self._header\n",
    "        self._size = 0\n",
    "    \n",
    "    def is_empty(self):\n",
    "        return self._size == 0\n",
    "    \n",
    "    def insert_between(self, element, predecessor, successor):\n",
    "        \n",
    "        new_node = self._Node(element, predecessor, successor)\n",
    "        predecessor._next = new_node\n",
    "        successor._prev = new_node\n",
    "        self._size += 1\n",
    "        return new_node\n",
    "\n",
    "    def delete_node(self, node):\n",
    "        \n",
    "        predecessor = node._prev\n",
    "        successor = node._next\n",
    "        \n",
    "        predecessor._next = successor\n",
    "        successor._prev = predecessor\n",
    "        \n",
    "        self._size -= 1\n",
    "        element = node._element\n",
    "        \n",
    "        # clear node references\n",
    "        node._prev = node._next = node._element = None\n",
    "        return element\n",
    "    \n",
    "    def __len__(self):\n",
    "        return self.size\n",
    "        "
   ]
  },
  {
   "cell_type": "code",
   "execution_count": null,
   "metadata": {
    "collapsed": true
   },
   "outputs": [],
   "source": []
  }
 ],
 "metadata": {
  "kernelspec": {
   "display_name": "Python 3",
   "language": "python",
   "name": "python3"
  },
  "language_info": {
   "codemirror_mode": {
    "name": "ipython",
    "version": 3
   },
   "file_extension": ".py",
   "mimetype": "text/x-python",
   "name": "python",
   "nbconvert_exporter": "python",
   "pygments_lexer": "ipython3",
   "version": "3.5.1"
  }
 },
 "nbformat": 4,
 "nbformat_minor": 0
}
