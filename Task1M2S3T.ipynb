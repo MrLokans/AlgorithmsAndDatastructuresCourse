{
 "cells": [
  {
   "cell_type": "markdown",
   "metadata": {},
   "source": [
    "Даны два массива целых чисел одинаковой длины **A[0..n−1]** и **B[0..n−1]**.\n",
    "Необходимо найти первую пару индексов $i_0$ и $j_0$, $i_0$ ≤$j_0$, такую что A[$i_0$]+B[$j_0$]=max{A[i]+B[j],где0≤i<n,0≤j<n,i≤j}.\n",
    "Время работы – O(n).\n"
   ]
  },
  {
   "cell_type": "code",
   "execution_count": 8,
   "metadata": {
    "collapsed": false
   },
   "outputs": [
    {
     "name": "stdout",
     "output_type": "stream",
     "text": [
      "0 1\n",
      "7\n"
     ]
    }
   ],
   "source": [
    "input = raw_input\n",
    "\n",
    "array_size = int(input())\n",
    "# array_size = 4\n",
    "\n",
    "arr_1 = map(int, input().split())\n",
    "arr_2 = map(int, input().split())\n",
    "\n",
    "# arr_1 = map(int, \"4 -8 6 0\".split())\n",
    "# arr_2 = map(int, \"-10 3 1 1\".split())\n",
    "\n",
    "\n",
    "def find_max_sum(arr_1, arr_2):\n",
    "    max_sum = arr_1[0] + arr_2[0]\n",
    "    for i in range(len(arr_1)):\n",
    "        for j in range(len(arr_2) - i):\n",
    "            if arr_1[i] + arr_2[j+i] > max_sum:\n",
    "                max_sum = arr_1[i] + arr_2[j+i]\n",
    "    return max_sum\n",
    "\n",
    "def find_val(arr_1, arr_2, sum_val):\n",
    "    for i in range(len(arr_1)):\n",
    "        for j in range(len(arr_2) - i):\n",
    "            if arr_1[i] + arr_2[i+j] == sum_val:\n",
    "                return (i, i+j)\n",
    "\n",
    "max_sum = find_max_sum(arr_1, arr_2)\n",
    "print(\" \".join(map(str,find_val(arr_1, arr_2, max_sum))))\n",
    "\n",
    "\n"
   ]
  }
 ],
 "metadata": {
  "kernelspec": {
   "display_name": "Python 2",
   "language": "python",
   "name": "python2"
  },
  "language_info": {
   "codemirror_mode": {
    "name": "ipython",
    "version": 2
   },
   "file_extension": ".py",
   "mimetype": "text/x-python",
   "name": "python",
   "nbconvert_exporter": "python",
   "pygments_lexer": "ipython2",
   "version": "2.7.10"
  }
 },
 "nbformat": 4,
 "nbformat_minor": 0
}
