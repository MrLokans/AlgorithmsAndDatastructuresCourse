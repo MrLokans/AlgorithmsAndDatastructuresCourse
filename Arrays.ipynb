{
 "cells": [
  {
   "cell_type": "code",
   "execution_count": 5,
   "metadata": {
    "collapsed": false
   },
   "outputs": [
    {
     "name": "stdout",
     "output_type": "stream",
     "text": [
      "104\n",
      "144\n"
     ]
    }
   ],
   "source": [
    "import sys\n",
    "import array\n",
    "\n",
    "fib_nums = array.array('i', [1, 1, 2, 3, 5, 8, 13, 21, 34, 55])\n",
    "fib_nums_list = [1, 1, 2, 3, 5, 8, 13, 21, 34, 55]\n",
    "\n",
    "print(sys.getsizeof(fib_nums))\n",
    "print(sys.getsizeof(fib_nums_list))"
   ]
  },
  {
   "cell_type": "markdown",
   "metadata": {},
   "source": [
    "### Array module utilizes following identifiers\n",
    "\n",
    "| Code | C Type             | Byte Number |\n",
    "|------|--------------------|-------------|\n",
    "| 'b'  | signed char        | 1           |\n",
    "| 'B'  | unsigned char      | 1           |\n",
    "| 'u'  | unicode char       | 2 or 4      |\n",
    "| 'h'  | signed short int   | 2           |\n",
    "| 'H'  | unsigned short int | 2           |\n",
    "| 'i'  | signed int         | 2 or 4      |\n",
    "| 'I'  | unsigned int       | 2 or 4      |\n",
    "| 'f'  | float              | 4           |\n",
    "| 'd'  | double             | 8           |"
   ]
  },
  {
   "cell_type": "code",
   "execution_count": 14,
   "metadata": {
    "collapsed": false
   },
   "outputs": [
    {
     "name": "stdout",
     "output_type": "stream",
     "text": [
      "<__main__.py_object_Array_2 object at 0x7f98f4038a60>\n",
      "<__main__.py_object_Array_4 object at 0x7f98f4056488>\n",
      "<__main__.py_object_Array_8 object at 0x7f98f4038a60>\n",
      "<__main__.py_object_Array_16 object at 0x7f98f4056488>\n",
      "<__main__.py_object_Array_32 object at 0x7f98f4038a60>\n",
      "<__main__.py_object_Array_64 object at 0x7f98f4056488>\n",
      "<__main__.py_object_Array_128 object at 0x7f98f4038a60>\n",
      "0 1 2 3 4 5 6 7 8 9 10 11 12 13 14 15 16 17 18 19 20 21 22 23 24 25 26 27 28 29 30 31 32 33 34 35 36 37 38 39 40 41 42 43 44 45 46 47 48 49 50 51 52 53 54 55 56 57 58 59 60 61 62 63 64 65 66 67 68 69 70 71 72 73 74 75 76 77 78 79 80 81 82 83 84 85 86 87 88 89 90 91 92 93 94 95 96 97 98 99 "
     ]
    }
   ],
   "source": [
    "# Dynamic array creation\n",
    "\n",
    "import ctypes\n",
    "\n",
    "class DynamicArray(object):\n",
    "    \n",
    "    def __init__(self):\n",
    "        \n",
    "        self._elements_number = 0\n",
    "        self._capacity = 1\n",
    "        self._array = self._make_array(self._capacity)\n",
    "    \n",
    "    def append(self, obj):\n",
    "        \"\"\"Append object to the end of the array\"\"\"\n",
    "        if self._elements_number == self._capacity:\n",
    "            # if we don't have enough space - we double the capacity\n",
    "            self._resize(self._capacity * 2)\n",
    "        self._array[self._elements_number] = obj\n",
    "        self._elements_number += 1\n",
    "    \n",
    "    def _resize(self, new_capacity):\n",
    "        \"\"\"Resize internal array to the given element count\"\"\"\n",
    "        new_array = self._make_array(new_capacity)\n",
    "        for i in range(self._elements_number):\n",
    "            new_array[i] = self._array[i]\n",
    "        print(new_array)\n",
    "        self._array = new_array\n",
    "        self._capacity = new_capacity\n",
    "\n",
    "    def _make_array(self, count):\n",
    "        \"\"\"Create new array with the given capacity\"\"\"\n",
    "        # create array of Py_Object pointers\n",
    "        return (count * ctypes.py_object)()\n",
    "\n",
    "    def __getitem__(self, indx):\n",
    "        \"\"\"Return elemnt at the given index\"\"\"\n",
    "        if not 0 <= indx < self._elements_number:\n",
    "            raise(IndexError('invalid index'))\n",
    "        return self._array[indx]\n",
    "        \n",
    "    def __len__(self):\n",
    "        \"\"\"Get collection's length\"\"\"\n",
    "        return self._elements_number\n",
    "\n",
    "    def __str__(self):\n",
    "        s = \"\"\n",
    "        for el in self._array:\n",
    "            s += str(el)\n",
    "        return s\n",
    "    \n",
    "d = DynamicArray()\n",
    "for i in range(100):\n",
    "    d.append(i)\n",
    "\n",
    "for el in d:\n",
    "    print(el, end=' ')\n"
   ]
  },
  {
   "cell_type": "code",
   "execution_count": 2,
   "metadata": {
    "collapsed": false
   },
   "outputs": [
    {
     "name": "stdout",
     "output_type": "stream",
     "text": [
      "[[0, 0, 0], [0, 0, 0], [0, 0, 0], [0, 0, 0]]\n"
     ]
    }
   ],
   "source": [
    "# proper multidimensioanl list creation\n",
    "c = 3\n",
    "r = 4\n",
    "data = [[0] * c for _ in range(r)]\n",
    "print(data)"
   ]
  }
 ],
 "metadata": {
  "kernelspec": {
   "display_name": "Python 3",
   "language": "python",
   "name": "python3"
  },
  "language_info": {
   "codemirror_mode": {
    "name": "ipython",
    "version": 3
   },
   "file_extension": ".py",
   "mimetype": "text/x-python",
   "name": "python",
   "nbconvert_exporter": "python",
   "pygments_lexer": "ipython3",
   "version": "3.5.1"
  }
 },
 "nbformat": 4,
 "nbformat_minor": 0
}
