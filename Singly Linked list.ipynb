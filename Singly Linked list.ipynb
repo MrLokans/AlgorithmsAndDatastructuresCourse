{
 "cells": [
  {
   "cell_type": "code",
   "execution_count": null,
   "metadata": {
    "collapsed": true
   },
   "outputs": [],
   "source": [
    "class EmptyStackError(Exception):\n",
    "    pass\n",
    "\n",
    "\n",
    "class LinkedStack(object):\n",
    "\n",
    "    class _Node(object):\n",
    "        __slots__ = '_elemnt', '_next'\n",
    "\n",
    "        def __init__(self, element, next_node):\n",
    "            self._element = element\n",
    "            self._next = next_node\n",
    "\n",
    "    def __init__(self):\n",
    "        self._head = None\n",
    "        self._size = 0\n",
    "    \n",
    "    def __len__(self):\n",
    "        return self._size\n",
    "    \n",
    "    def is_empty():\n",
    "        return self._size == 0\n",
    "    \n",
    "    def push(self, e):\n",
    "        self._head = self._Node(el, self._head)\n",
    "        self._size += 1\n",
    "    \n",
    "    def top(self):\n",
    "        if self.is_empty():\n",
    "            raise EmptyStackError(\"Empty stack\")\n",
    "        return self._head._element\n",
    "    \n",
    "    def pop(self):\n",
    "        if self.is_empty():\n",
    "            return EmptyStackError(\"Empty stack\")\n",
    "    \n",
    "        result = self._head._element\n",
    "        \n",
    "        self._head = self._head._next\n",
    "        self._size -= 1\n",
    "        return result\n",
    "    \n",
    "        "
   ]
  }
 ],
 "metadata": {
  "kernelspec": {
   "display_name": "Python 3",
   "language": "python",
   "name": "python3"
  },
  "language_info": {
   "codemirror_mode": {
    "name": "ipython",
    "version": 3
   },
   "file_extension": ".py",
   "mimetype": "text/x-python",
   "name": "python",
   "nbconvert_exporter": "python",
   "pygments_lexer": "ipython3",
   "version": "3.5.1"
  }
 },
 "nbformat": 4,
 "nbformat_minor": 0
}
