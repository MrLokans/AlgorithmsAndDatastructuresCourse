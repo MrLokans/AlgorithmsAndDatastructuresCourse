{
 "cells": [
  {
   "cell_type": "code",
   "execution_count": 5,
   "metadata": {
    "collapsed": false
   },
   "outputs": [],
   "source": [
    "import functools\n",
    "\n",
    "def check_empty(f):\n",
    "    \n",
    "    @functools.wraps(f)\n",
    "    def wrapper(*args, **kwargs):\n",
    "        if args[0].is_empty():\n",
    "            raise EmptyDeque(\"The deque is empty\")\n",
    "        return f(*args, **kwargs)\n",
    "    return wrapper\n",
    "    \n",
    "\n",
    "class EmptyDeque(Exception):\n",
    "    pass\n",
    "    \n",
    "\n",
    "class DoublyLinkedList(object):\n",
    "\n",
    "    class _Node(object):\n",
    "\n",
    "        __slots__ = ('_element', '_prev', '_next')\n",
    "\n",
    "        def __init__(self, element, prev, next):\n",
    "            self._element = element\n",
    "            self._prev = prev\n",
    "            self._next = next\n",
    "    \n",
    "    def __init__(self):\n",
    "        self._header = self._Node(None, None, None)\n",
    "        self._trailer = self._Node(None, None, None)\n",
    "        self._header._next = self._trailer\n",
    "        self._trailer._prev = self._header\n",
    "        self._size = 0\n",
    "    \n",
    "    def is_empty(self):\n",
    "        return self._size == 0\n",
    "    \n",
    "    def insert_between(self, element, predecessor, successor):\n",
    "        \n",
    "        new_node = self._Node(element, predecessor, successor)\n",
    "        predecessor._next = new_node\n",
    "        successor._prev = new_node\n",
    "        self._size += 1\n",
    "        return new_node\n",
    "\n",
    "    def delete_node(self, node):\n",
    "        \n",
    "        predecessor = node._prev\n",
    "        successor = node._next\n",
    "        \n",
    "        predecessor._next = successor\n",
    "        successor._prev = predecessor\n",
    "        \n",
    "        self._size -= 1\n",
    "        element = node._element\n",
    "        \n",
    "        # clear node references\n",
    "        node._prev = node._next = node._element = None\n",
    "        return element\n",
    "    \n",
    "    def __len__(self):\n",
    "        return self.size\n",
    "        "
   ]
  },
  {
   "cell_type": "code",
   "execution_count": 8,
   "metadata": {
    "collapsed": false
   },
   "outputs": [],
   "source": [
    "# implementing deque with linked list allow us to implement all\n",
    "# deque operations in O(1) in the worst with no need to resize \n",
    "# donw-lying array\n",
    "\n",
    "class LinkedDeque(DoublyLinkedList):\n",
    "    \n",
    "    @check_empty\n",
    "    def first(self):\n",
    "        return self._header._next._element\n",
    "    \n",
    "    @check_empty\n",
    "    def last(self):\n",
    "        return self._trailer._prev._element\n",
    "    \n",
    "    def insert_first(self, element):\n",
    "        self.insert_between(element, self._header, self._header._next)\n",
    "    \n",
    "    def insert_last(self, element):\n",
    "        self.insert_between(element, self._trailer._prev, self._trailer)\n",
    "    \n",
    "    @check_empty\n",
    "    def delete_first(self):\n",
    "        return self.delete_node(self._header._next)\n",
    "    \n",
    "    @check_empty\n",
    "    def delete_first(self):\n",
    "        return self.delete_node(self._trailer._prev)\n",
    "    "
   ]
  },
  {
   "cell_type": "code",
   "execution_count": 11,
   "metadata": {
    "collapsed": false
   },
   "outputs": [
    {
     "name": "stdout",
     "output_type": "stream",
     "text": [
      "20\n"
     ]
    }
   ],
   "source": [
    "d = LinkedDeque()\n",
    "d.insert_first(20)\n",
    "print(d.last())"
   ]
  }
 ],
 "metadata": {
  "kernelspec": {
   "display_name": "Python 3",
   "language": "python",
   "name": "python3"
  },
  "language_info": {
   "codemirror_mode": {
    "name": "ipython",
    "version": 3
   },
   "file_extension": ".py",
   "mimetype": "text/x-python",
   "name": "python",
   "nbconvert_exporter": "python",
   "pygments_lexer": "ipython3",
   "version": "3.5.1"
  }
 },
 "nbformat": 4,
 "nbformat_minor": 0
}
