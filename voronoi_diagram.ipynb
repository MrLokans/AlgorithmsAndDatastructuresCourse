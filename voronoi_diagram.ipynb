{
 "cells": [
  {
   "cell_type": "code",
   "execution_count": 1,
   "metadata": {
    "collapsed": true
   },
   "outputs": [],
   "source": [
    "# https://en.wikipedia.org/wiki/Voronoi_diagram"
   ]
  },
  {
   "cell_type": "code",
   "execution_count": 6,
   "metadata": {
    "collapsed": false
   },
   "outputs": [],
   "source": [
    "from PIL import Image\n",
    "import random\n",
    "import math\n",
    "\n",
    "def generate_random_RGB():\n",
    "    randrange = random.randrange\n",
    "    return randrange(256), randrange(256), randrange(256)\n",
    " \n",
    "def generate_voronoi_diagram(width, height, num_cells):\n",
    "    image = Image.new(\"RGB\", (width, height))\n",
    "    putpixel = image.putpixel\n",
    "    imgx, imgy = image.size\n",
    "    nx, ny, nr, ng, nb = [], [], [], [], []\n",
    "\n",
    "    for i in range(num_cells):\n",
    "        # Choose a place for random point\n",
    "        nx.append(random.randrange(imgx))\n",
    "        ny.append(random.randrange(imgy))\n",
    "        \n",
    "        # Choose cell color\n",
    "        R, G, B = generate_random_RGB()\n",
    "        nr.append(R)\n",
    "        ng.append(G)\n",
    "        nb.append(B)\n",
    "\n",
    "    for y in range(imgy):\n",
    "        for x in range(imgx):\n",
    "            # distance between X and Y\n",
    "            dist_min = math.hypot(imgx-1, imgy-1)\n",
    "            j = -1\n",
    "            for i in range(num_cells):\n",
    "                d = math.hypot(nx[i]-x, ny[i]-y)\n",
    "                if d < dist_min:\n",
    "                    dist_min = d\n",
    "                    j = i\n",
    "            putpixel((x, y), (nr[j], ng[j], nb[j]))\n",
    "    image.save(\"VoronoiDiagram.png\", \"PNG\")\n",
    "    image.show()\n",
    " \n",
    "generate_voronoi_diagram(900, 900, 25)"
   ]
  }
 ],
 "metadata": {
  "kernelspec": {
   "display_name": "Python 3",
   "language": "python",
   "name": "python3"
  },
  "language_info": {
   "codemirror_mode": {
    "name": "ipython",
    "version": 3
   },
   "file_extension": ".py",
   "mimetype": "text/x-python",
   "name": "python",
   "nbconvert_exporter": "python",
   "pygments_lexer": "ipython3",
   "version": "3.5.2"
  }
 },
 "nbformat": 4,
 "nbformat_minor": 0
}
