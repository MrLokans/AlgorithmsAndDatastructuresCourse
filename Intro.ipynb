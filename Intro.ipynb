{
 "cells": [
  {
   "cell_type": "markdown",
   "metadata": {},
   "source": [
    "# Анализ алгоритмов\n",
    "\n",
    "Data characteristscs - число **n** или несколько чисел \n",
    "\n",
    "Algorithm work time - **T(n)** ~ **n*log(n)** $\\in$ O(nlog(n))\n",
    "\n",
    "Auxilary memory volume - **M(n)** $\\in$ O(n)\n",
    "\n",
    "\n",
    "\n",
    "\n",
    "O(x) - ограничение сверху\n",
    "\n",
    "$\\Omega$ - ограничение снизу\n",
    "\n",
    "$\\Theta$ - ограничение сверху и снизу"
   ]
  }
 ],
 "metadata": {
  "kernelspec": {
   "display_name": "Python 2",
   "language": "python",
   "name": "python2"
  },
  "language_info": {
   "codemirror_mode": {
    "name": "ipython",
    "version": 2
   },
   "file_extension": ".py",
   "mimetype": "text/x-python",
   "name": "python",
   "nbconvert_exporter": "python",
   "pygments_lexer": "ipython2",
   "version": "2.7.10"
  }
 },
 "nbformat": 4,
 "nbformat_minor": 0
}
