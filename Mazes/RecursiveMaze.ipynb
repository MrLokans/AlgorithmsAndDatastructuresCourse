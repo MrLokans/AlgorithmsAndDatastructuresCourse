{
 "cells": [
  {
   "cell_type": "code",
   "execution_count": 16,
   "metadata": {
    "collapsed": false
   },
   "outputs": [
    {
     "name": "stdout",
     "output_type": "stream",
     "text": [
      "Visiting 0, 0\n",
      "Wall found at 1,0\n",
      "Visiting 0, 1\n",
      "Wall found at 1,1\n",
      "Visiting 0, 2\n",
      "Visiting 1, 2\n",
      "Visiting 2, 2\n",
      "Wall found at 3,2\n",
      "Wall found at 2,3\n",
      "Visited found at 1,2\n",
      "Visiting 2, 1\n",
      "Wall found at 3,1\n",
      "Visited found at 2,2\n",
      "Wall found at 1,1\n",
      "Visiting 2, 0\n",
      "Visiting 3, 0\n",
      "Visiting 4, 0\n",
      "Visiting 5, 0\n",
      "Wall found at 5,1\n",
      "Visited found at 4,0\n",
      "Wall found at 4,1\n",
      "Visited found at 3,0\n",
      "Wall found at 3,1\n",
      "Visited found at 2,0\n",
      "Visited found at 2,1\n",
      "Wall found at 1,0\n",
      "Visiting 1, 3\n",
      "Wall found at 2,3\n",
      "Visiting 1, 4\n",
      "Visiting 2, 4\n",
      "Visiting 3, 4\n",
      "Wall found at 4,4\n",
      "Wall found at 3,5\n",
      "Visited found at 2,4\n",
      "Visiting 3, 3\n",
      "Visiting 4, 3\n",
      "Visiting 5, 3\n",
      "Visiting 5, 4\n",
      "End cell found at 5,5\n"
     ]
    },
    {
     "data": {
      "text/plain": [
       "True"
      ]
     },
     "execution_count": 16,
     "metadata": {},
     "output_type": "execute_result"
    }
   ],
   "source": [
    "EMPTY, WALL, END, VISITED = range(4)\n",
    "\n",
    "maze = [[0, 0, 0, 0, 0, 1],\n",
    "        [1, 1, 0, 0, 0, 1],\n",
    "        [0, 0, 0, 1, 0, 0],\n",
    "        [0, 1, 1, 0, 0, 1],\n",
    "        [0, 1, 0, 0, 1, 0],\n",
    "        [0, 1, 0, 0, 0, 2]]\n",
    "\n",
    "def recursive_search(maze, x, y):\n",
    "    \"\"\"\n",
    "    Recursively searches the given maze\n",
    "    for the end cell, starting from x,y\n",
    "    coordinates\n",
    "    \"\"\"\n",
    "    if maze[x][y] == END:\n",
    "        print(\"End cell found at {},{}\".format(x, y))\n",
    "        return True\n",
    "    if maze[x][y] == WALL:\n",
    "        print(\"Wall found at {},{}\".format(x, y))\n",
    "        return False\n",
    "    if maze[x][y] == VISITED:\n",
    "        print(\"Visited found at {},{}\".format(x, y))\n",
    "        return False  \n",
    "    \n",
    "    print(\"Visiting {}, {}\".format(x, y))\n",
    "    maze[x][y] = VISITED\n",
    "    \n",
    "    # recursively explore neighbors clockwise\n",
    "    # starting from the right cell\n",
    "    #   u\n",
    "    # l x r\n",
    "    #   b\n",
    "    height = len(maze)\n",
    "    width = len(maze[0])\n",
    "    \n",
    "    # Right cell\n",
    "    if x < (width - 1) and recursive_search(maze, x+1, y):\n",
    "        return True\n",
    "    \n",
    "    # Bottom cell\n",
    "    elif y < (height - 1) and recursive_search(maze, x, y +1):\n",
    "        return True\n",
    "    \n",
    "    # Left cell\n",
    "    elif x > 0 and recursive_search(maze, x-1, y):\n",
    "        return True\n",
    "    \n",
    "    # Upper cell\n",
    "    elif y > 0 and recursive_search(maze, x, y - 1):\n",
    "        return True\n",
    "    \n",
    "    return False\n",
    "\n",
    "recursive_search(maze, 0, 0)"
   ]
  }
 ],
 "metadata": {
  "kernelspec": {
   "display_name": "Python 3",
   "language": "python",
   "name": "python3"
  },
  "language_info": {
   "codemirror_mode": {
    "name": "ipython",
    "version": 3
   },
   "file_extension": ".py",
   "mimetype": "text/x-python",
   "name": "python",
   "nbconvert_exporter": "python",
   "pygments_lexer": "ipython3",
   "version": "3.5.2"
  }
 },
 "nbformat": 4,
 "nbformat_minor": 1
}
