{
 "cells": [
  {
   "cell_type": "code",
   "execution_count": 8,
   "metadata": {
    "collapsed": false
   },
   "outputs": [],
   "source": [
    "from array import array\n",
    "\n",
    "class QuickUnion(object):\n",
    "    \n",
    "    def __init__(self, count):\n",
    "        \"\"\"\n",
    "        :param count: Number of objects to be stored\n",
    "        in the union\n",
    "        \"\"\"\n",
    "        self.__arr = array('l')\n",
    "        for i in range(count):\n",
    "            self.__arr.append(i)\n",
    "    \n",
    "    def __root(self, i):\n",
    "        while i != self.__arr[i]:\n",
    "            i = self.__arr[i]\n",
    "        return i\n",
    "    \n",
    "    def connected(self, p, q):\n",
    "        return self.__root(p) == self.__root(q)\n",
    "    \n",
    "    def union(self, p, q):\n",
    "        i = self.__root(p)\n",
    "        j = self.__root(q)\n",
    "        self.__arr[i] = j\n",
    "\n",
    "            \n",
    "u = QuickUnion(7)\n",
    "\n",
    "assert not u.connected(1, 2)\n",
    "u.union(1, 2)\n",
    "assert u.connected(1, 2)\n",
    "assert not u.connected(1, 6)\n",
    "u.union(1, 3)\n",
    "u.union(4, 5)\n",
    "u.union(5, 6)\n",
    "u.union(3, 4)\n",
    "assert u.connected(1, 6)\n"
   ]
  }
 ],
 "metadata": {
  "kernelspec": {
   "display_name": "Python 3",
   "language": "python",
   "name": "ocr-kernel"
  },
  "language_info": {
   "codemirror_mode": {
    "name": "ipython",
    "version": 3
   },
   "file_extension": ".py",
   "mimetype": "text/x-python",
   "name": "python",
   "nbconvert_exporter": "python",
   "pygments_lexer": "ipython3",
   "version": "3.6.0"
  }
 },
 "nbformat": 4,
 "nbformat_minor": 2
}
