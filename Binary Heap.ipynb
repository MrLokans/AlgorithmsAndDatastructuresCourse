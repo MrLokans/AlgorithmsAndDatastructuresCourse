{
 "cells": [
  {
   "cell_type": "markdown",
   "metadata": {},
   "source": [
    "## Двоичная куча\n",
    "Двоичная куча, пирамида или сортирующее дерево - такое почти полное двоичное дерево, для которого выполнены 3 условия:\n",
    "\n",
    "1. Значение в любой вершине не меньше, чем значения ее потомков\n",
    "2. Глубина листьев (расстояние до корня) отличается не более, чем на один\n",
    "3. Последний слой заполняется слева направо\n",
    "  \n",
    "Глубина кучи = $O(log(n))$, где $n$ - количество элементов.\n",
    "\n",
    "## Хранение кучи в массиве\n",
    "\n",
    "* A[0] - корень дерева\n",
    "* Потомки элемента $A[i]$ - элементы $A[2i + 1]$ и $A[2i + 2]$\n",
    "* предок элемента $A[i]$ - элемент $A[(i-1) / 2]$"
   ]
  },
  {
   "cell_type": "code",
   "execution_count": 39,
   "metadata": {
    "collapsed": false
   },
   "outputs": [
    {
     "name": "stdout",
     "output_type": "stream",
     "text": [
      "[-4, 6, 40, 1231, 123, 1000]\n",
      "[6, 123, 40, 1231, 1000]\n"
     ]
    }
   ],
   "source": [
    "class BinaryHeap(object):\n",
    "    def __init__(self):\n",
    "        self.heap_list = [0]\n",
    "        self.current_size = 0\n",
    "    \n",
    "    def percolate_up(self, i):\n",
    "        \"\"\"We check whether the child is smaller that the parent\n",
    "        and percolate it up\n",
    "        \"\"\"\n",
    "        while i // 2 > 0:\n",
    "            child, parent = self.heap_list[i], self.heap_list[i // 2] \n",
    "            if child < parent:\n",
    "                self.heap_list[i], self.heap_list[i // 2] = parent, child \n",
    "            i //= 2\n",
    "    \n",
    "    def insert_element(self, value):\n",
    "        self.heap_list.append(value)\n",
    "        self.current_size += 1\n",
    "        self.percolate_up(self.current_size)\n",
    "\n",
    "    def percolate_down(self, i):\n",
    "        while i * 2 <= self.current_size:\n",
    "            min_child_i = self.min_child(i)\n",
    "            if self.heap_list[i] > self.heap_list[min_child_i]:\n",
    "                self.heap_list[i], self.heap_list[min_child_i] = self.heap_list[min_child_i], self.heap_list[i]\n",
    "            i = min_child_i\n",
    "\n",
    "    def delete_minimum(self):\n",
    "        res = self.heap_list[1]\n",
    "        # we replace root element by the last one\n",
    "        self.heap_list[1] = self.heap_list[self.current_size]\n",
    "        self.current_size -= 1\n",
    "        self.heap_list.pop()\n",
    "        # and rebuild heap\n",
    "        self.percolate_down(1)\n",
    "        return res\n",
    "        \n",
    "        \n",
    "    def min_child(self, i):\n",
    "        \"\"\"Return element's minimal child index\"\"\"\n",
    "        if i * 2 + 1 > self.current_size:\n",
    "            return i * 2\n",
    "        if self.heap_list[i * 2] < self.heap_list[i * 2 + 1]:\n",
    "            return i * 2\n",
    "        else:\n",
    "            return i * 2 + 1\n",
    "    \n",
    "    def build_heap(self, seq):\n",
    "        i = len(seq) // 2\n",
    "        self.current_size = len(seq)\n",
    "        self.heap_list = [0] + seq[:]\n",
    "        while (i > 0):\n",
    "            self.percolate_down(i)\n",
    "            i -= 1\n",
    "    \n",
    "    def __str__(self):\n",
    "        return str(self.heap_list[1:])\n",
    "\n",
    "heap = BinaryHeap()\n",
    "seq = [1000, 1231, 123, 6, -4, 40]\n",
    "for el in seq:\n",
    "    heap.insert_element(el)\n",
    "print(heap)\n",
    "\n",
    "heap.delete_minimum()\n",
    "print(heap)"
   ]
  }
 ],
 "metadata": {
  "kernelspec": {
   "display_name": "Python 3",
   "language": "python",
   "name": "python3"
  },
  "language_info": {
   "codemirror_mode": {
    "name": "ipython",
    "version": 3
   },
   "file_extension": ".py",
   "mimetype": "text/x-python",
   "name": "python",
   "nbconvert_exporter": "python",
   "pygments_lexer": "ipython3",
   "version": "3.5.1"
  }
 },
 "nbformat": 4,
 "nbformat_minor": 0
}
