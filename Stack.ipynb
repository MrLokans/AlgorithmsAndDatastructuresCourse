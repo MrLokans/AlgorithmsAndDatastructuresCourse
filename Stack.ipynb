{
 "cells": [
  {
   "cell_type": "code",
   "execution_count": 1,
   "metadata": {
    "collapsed": true
   },
   "outputs": [],
   "source": [
    "# Stack using python's list (adapter pattern)\n",
    "\n",
    "class StackEmptyError(Exception):\n",
    "    pass\n",
    "\n",
    "class Stack(object):\n",
    "    \n",
    "    def __init__(self):\n",
    "        self._data = []\n",
    "\n",
    "    def __len__(self):\n",
    "        return len(self._data)\n",
    "    \n",
    "    def is_empty(self):\n",
    "        return self.__len__() == 0\n",
    "\n",
    "    def push(self, el):\n",
    "        self._data.append(el)\n",
    "    \n",
    "    def top(self):\n",
    "        \"\"\"return top element without removing\"\"\"\n",
    "        if self.is_empty():\n",
    "            raise StackEmptyError(\"Stack is empty\")\n",
    "        return self._data[-1]\n",
    "\n",
    "    def pop(self):\n",
    "        \"\"\"return top element with removing\"\"\"\n",
    "        if self.is_empty():\n",
    "            raise StackEmptyError(\"Stack is empty\")\n",
    "        return self._data.pop()"
   ]
  },
  {
   "cell_type": "code",
   "execution_count": 9,
   "metadata": {
    "collapsed": false
   },
   "outputs": [
    {
     "name": "stdout",
     "output_type": "stream",
     "text": [
      "True\n",
      "False\n",
      "True\n"
     ]
    }
   ],
   "source": [
    "def is_matched(expr):\n",
    "    \"\"\"Check, whether the given sequence of braces is properly matched\"\"\"\n",
    "    left_braces = \"({[\"\n",
    "    right_braces = \")}]\"\n",
    "    \n",
    "    s = Stack()\n",
    "    \n",
    "    for tok in expr:\n",
    "        if tok in left_braces:\n",
    "            s.push(tok)\n",
    "        elif tok in right_braces:\n",
    "            if s.is_empty():\n",
    "                return False\n",
    "            if right_braces.index(tok) != left_braces.index(s.pop()):\n",
    "                return False\n",
    "    return s.is_empty()\n",
    "print(is_matched(\"{{{[[[()]]]}}}\"))\n",
    "print(is_matched(\"{[]()(}\"))\n",
    "print(is_matched(\"[(x - 30) * (x + 30)]\"))"
   ]
  },
  {
   "cell_type": "code",
   "execution_count": 14,
   "metadata": {
    "collapsed": false
   },
   "outputs": [
    {
     "name": "stdout",
     "output_type": "stream",
     "text": [
      "True\n",
      "False\n"
     ]
    }
   ],
   "source": [
    "START_TAG_SYMBOL = '<'\n",
    "CLOSE_TAG_SYMBOL = '>'\n",
    "\n",
    "def is_matched_html(raw_html):\n",
    "    \"\"\"check whether the given HTML text has correctly matched tags\"\"\"\n",
    "    s = Stack()\n",
    "    \n",
    "    tag_start_pos = raw_html.find(START_TAG_SYMBOL)\n",
    "    while tag_start_pos != -1:\n",
    "        tag_close_pos = raw_html.find(CLOSE_TAG_SYMBOL, tag_start_pos+1)\n",
    "        if tag_close_pos == -1:\n",
    "            return False\n",
    "        \n",
    "        tag_text = raw_html[tag_start_pos+1:tag_close_pos]\n",
    "        \n",
    "        # check whether tag is closing\n",
    "        if not tag_text.startswith('/'):\n",
    "            s.push(tag_text)\n",
    "        else:\n",
    "            if s.is_empty():\n",
    "                return False\n",
    "            # tag is closing\n",
    "            if tag_text[1:] != s.pop():\n",
    "                return False\n",
    "        tag_start_pos = raw_html.find(START_TAG_SYMBOL, tag_close_pos)\n",
    "    return s.is_empty()\n",
    "\n",
    "correct_html = \"<html><head><title>Name</title></head><body><h1>Text1</h1><h2>Text2</h2></body></html>\"\n",
    "incorrect_html = \"<html><head><title>Name</title></head><body><h1>Text1</h1><h2>Text2</h2></body></body></html>\"\n",
    "print(is_matched_html(correct_html))\n",
    "print(is_matched_html(incorrect_html))"
   ]
  },
  {
   "cell_type": "code",
   "execution_count": null,
   "metadata": {
    "collapsed": true
   },
   "outputs": [],
   "source": []
  }
 ],
 "metadata": {
  "kernelspec": {
   "display_name": "Python 3",
   "language": "python",
   "name": "python3"
  },
  "language_info": {
   "codemirror_mode": {
    "name": "ipython",
    "version": 3
   },
   "file_extension": ".py",
   "mimetype": "text/x-python",
   "name": "python",
   "nbconvert_exporter": "python",
   "pygments_lexer": "ipython3",
   "version": "3.5.1"
  }
 },
 "nbformat": 4,
 "nbformat_minor": 0
}
