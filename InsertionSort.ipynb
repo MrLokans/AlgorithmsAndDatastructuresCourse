{
 "cells": [
  {
   "cell_type": "code",
   "execution_count": 85,
   "metadata": {
    "collapsed": false
   },
   "outputs": [
    {
     "name": "stdout",
     "output_type": "stream",
     "text": [
      "[22, 25, 25, 25, 26, 26, 27, 29, 29, 29, 31, 31, 31, 35, 39, 39, 39, 42, 42, 46, 52, 53, 54, 56, 57, 60, 61, 63, 63, 64, 65, 65, 66, 70, 73, 74, 74, 75, 75, 77, 83, 83, 83, 87, 88, 90, 94, 95, 98, 100]\n"
     ]
    }
   ],
   "source": [
    "from random import randint, randrange\n",
    "\n",
    "seq = [randint(20, 100) for _ in range(100, randrange(150, 200))]\n",
    "\n",
    "# print(seq)\n",
    "def insert_sort(seq):\n",
    "    l = len(seq)\n",
    "    seq = seq[:]\n",
    "    \n",
    "    for i in range(1, l):\n",
    "        tmp = seq[i]\n",
    "        pos = i\n",
    "        \n",
    "        while pos > 0 and seq[pos - 1] > tmp:\n",
    "            seq[pos] = seq[pos-1]\n",
    "            pos -= 1\n",
    "        seq[pos] = tmp\n",
    "        \n",
    "        \n",
    "    return seq\n",
    "\n",
    "    \n",
    "print(insert_sort(seq))"
   ]
  }
 ],
 "metadata": {
  "kernelspec": {
   "display_name": "Python 3",
   "language": "python",
   "name": "python3"
  },
  "language_info": {
   "codemirror_mode": {
    "name": "ipython",
    "version": 3
   },
   "file_extension": ".py",
   "mimetype": "text/x-python",
   "name": "python",
   "nbconvert_exporter": "python",
   "pygments_lexer": "ipython3",
   "version": "3.5.1"
  }
 },
 "nbformat": 4,
 "nbformat_minor": 0
}
