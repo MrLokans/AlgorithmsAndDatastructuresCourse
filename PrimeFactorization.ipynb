{
 "cells": [
  {
   "cell_type": "code",
   "execution_count": 12,
   "metadata": {
    "collapsed": false
   },
   "outputs": [
    {
     "name": "stdout",
     "output_type": "stream",
     "text": [
      "[3, 5, 5]\n",
      "[19]\n"
     ]
    }
   ],
   "source": [
    "def factorize(n):\n",
    "    assert n > 1\n",
    "    prime_factors = []\n",
    "    for i in range (2, n+1):\n",
    "        while True:\n",
    "            if n % i == 0:\n",
    "                n /= i\n",
    "                prime_factors.append(i)\n",
    "            else:\n",
    "                break\n",
    "    return prime_factors\n",
    "\n",
    "n = 75\n",
    "print factorize(n)\n",
    "print factorize(19)"
   ]
  },
  {
   "cell_type": "code",
   "execution_count": null,
   "metadata": {
    "collapsed": true
   },
   "outputs": [],
   "source": []
  }
 ],
 "metadata": {
  "kernelspec": {
   "display_name": "Python 2",
   "language": "python",
   "name": "python2"
  },
  "language_info": {
   "codemirror_mode": {
    "name": "ipython",
    "version": 2
   },
   "file_extension": ".py",
   "mimetype": "text/x-python",
   "name": "python",
   "nbconvert_exporter": "python",
   "pygments_lexer": "ipython2",
   "version": "2.7.10"
  }
 },
 "nbformat": 4,
 "nbformat_minor": 0
}
