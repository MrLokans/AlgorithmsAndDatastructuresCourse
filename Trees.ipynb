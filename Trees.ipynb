{
 "cells": [
  {
   "cell_type": "code",
   "execution_count": null,
   "metadata": {
    "collapsed": true
   },
   "outputs": [],
   "source": [
    "import abc\n",
    "\n",
    "class AbstractTree(object, metaclass=abc.ABCMeta):\n",
    "    \n",
    "    class Position(object, metaclass=abs.ABCMeta):\n",
    "        \n",
    "        def element(self):\n",
    "            \"\"\"Element at the given position\"\"\"\n",
    "            \n",
    "        def __eq__(self, other):\n",
    "            \"\"\"Comparision interface\"\"\"\n",
    "        \n",
    "        def __ne__(self, other):\n",
    "            return not (self == other)\n",
    "    \n",
    "    def root(self):\n",
    "        \"\"\"Return root element position\"\"\"\n",
    "    \n",
    "    def parent(self, p):\n",
    "        \"\"\"Return Position representing given node parent\n",
    "        or None otherwise\"\"\"\n",
    "    \n",
    "    def children_count(self, p):\n",
    "        \"\"\"Return number of children Position p has\"\"\"\n",
    "    \n",
    "    def children(self, p):\n",
    "        \"\"\"Return iterator of the given node children\"\"\"\n",
    "    \n",
    "    def __len__(self):\n",
    "        \"\"\"Total number of tree elements\"\"\"\n",
    "    \n",
    "    def is_root(self, p):\n",
    "        return self.root() == p\n",
    "    \n",
    "    def is_leaf(self, p):\n",
    "        return self.children_count() == 0\n",
    "    \n",
    "    def is_empty(self):\n",
    "        return len(self) == 0\n",
    "    \n",
    "    def depth(self, p):\n",
    "        \"\"\"Return number of elements separating the given node\n",
    "        from the root\"\"\"\n",
    "        if self.is_root(p):\n",
    "            return 0\n",
    "        return 1 + self.depth(self.parent(p))"
   ]
  }
 ],
 "metadata": {
  "kernelspec": {
   "display_name": "Python 3",
   "language": "python",
   "name": "python3"
  },
  "language_info": {
   "codemirror_mode": {
    "name": "ipython",
    "version": 3
   },
   "file_extension": ".py",
   "mimetype": "text/x-python",
   "name": "python",
   "nbconvert_exporter": "python",
   "pygments_lexer": "ipython3",
   "version": "3.5.2"
  }
 },
 "nbformat": 4,
 "nbformat_minor": 0
}
